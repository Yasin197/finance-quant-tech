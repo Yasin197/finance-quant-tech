{
 "cells": [
  {
   "cell_type": "markdown",
   "id": "3e6eeb5e",
   "metadata": {},
   "source": [
    "## LLN & CLT"
   ]
  },
  {
   "cell_type": "markdown",
   "id": "5a1560ee",
   "metadata": {},
   "source": [
    "Sections:\n",
    "- Law of Large Numbers\n",
    "- Central Limit Theorem\n",
    "- Framing for Applications"
   ]
  },
  {
   "cell_type": "code",
   "execution_count": null,
   "id": "d82f5faf",
   "metadata": {},
   "outputs": [],
   "source": [
    "import matplotlib.pyplot as plt\n",
    "import seaborn as sns\n",
    "import numpy as np\n",
    "import scipy"
   ]
  },
  {
   "cell_type": "markdown",
   "id": "cdea3687-1283-493a-ba69-1ecc0e7ce4a0",
   "metadata": {},
   "source": [
    "#### 1. Simuate Standard Uniform variables"
   ]
  },
  {
   "cell_type": "code",
   "execution_count": null,
   "id": "8781e896-fd89-491f-b149-c1258eec14f8",
   "metadata": {},
   "outputs": [],
   "source": [
    "# there is an even probability of selecting any value between this range, where each number has a 0 propbability of being selected\n",
    "u = np.random.uniform(0, 1)\n",
    "print(u)"
   ]
  },
  {
   "cell_type": "markdown",
   "id": "c2f88d3c-f50a-4641-b239-95b8cb4853e9",
   "metadata": {},
   "source": [
    "we can simulate many variables, get a vector and visualise this"
   ]
  },
  {
   "cell_type": "code",
   "execution_count": null,
   "id": "2f25a7a0-22e7-4cf0-8eca-e9da54975334",
   "metadata": {},
   "outputs": [],
   "source": [
    "# you can see its like a horizontal line\n",
    "u = np.random.uniform(0, 1, 100_000)\n",
    "print(u)\n",
    "plt.hist(u, bins=20)"
   ]
  },
  {
   "cell_type": "markdown",
   "id": "7924d0d9-2b9f-4807-9c08-5186f3900e99",
   "metadata": {},
   "source": [
    "#### 2. Simuate Normal variables\n",
    "- 68% of the data will fall between 0 and 1"
   ]
  },
  {
   "cell_type": "code",
   "execution_count": null,
   "id": "8d212d66-46d9-4cd8-99e3-6c9d2fbc9f2b",
   "metadata": {},
   "outputs": [],
   "source": [
    "# in this case we dont have a lower and upper limit, so it is not bound but we supply a mean and standard deviation\n",
    "n = np.random.normal(0, 1)\n",
    "print(n)"
   ]
  },
  {
   "cell_type": "code",
   "execution_count": null,
   "id": "49a1acf5-bba4-4c6c-8afe-0d5ea38e47a0",
   "metadata": {},
   "outputs": [],
   "source": [
    "# therefore, we get the bell curve\n",
    "n = np.random.normal(0, 1, 10_000)\n",
    "print(n)\n",
    "plt.hist(n, bins=20);"
   ]
  },
  {
   "cell_type": "code",
   "execution_count": null,
   "id": "eec21630-417e-4f35-b00e-fe984f3eec94",
   "metadata": {},
   "outputs": [],
   "source": [
    "sns.kdeplot(n);"
   ]
  },
  {
   "cell_type": "code",
   "execution_count": null,
   "id": "ba33be4c-4309-404e-9936-97248762e05d",
   "metadata": {},
   "outputs": [],
   "source": [
    "# expectation mean should be close to 0\n",
    "print(np.mean(n))"
   ]
  },
  {
   "cell_type": "markdown",
   "id": "fb061a17-c255-4b64-917e-9d7a54f19133",
   "metadata": {},
   "source": [
    "### Law of Large Numbers\n",
    "\n",
    "*As the sample size increases indefinitely the difference between the estimate given by a sample and the population parameter will be bound by any arbitrary distance with certainty.*\n",
    "\n",
    "In other words, as the sample gets closer to the population the distance between the estimate and the true population average will converge.\n",
    "\n",
    "*\"for some arbitrary positive epsilon, as n approaches infinity, we are certain this difference is bounded by this number\"*"
   ]
  },
  {
   "cell_type": "code",
   "execution_count": null,
   "id": "9aed4960-2a3a-4968-8368-22b6078fcf9e",
   "metadata": {},
   "outputs": [],
   "source": [
    "epsilon = .01\n",
    "l = []\n",
    "for i in range(1_000):\n",
    "    # generate 10 draws from a normal distribution\n",
    "    n = np.random.normal(0, 1, 50_000)\n",
    "    # find xbarn\n",
    "    xbarn = np.mean(n)\n",
    "    # determine if xbarn is less and epsilon and create the indicator function\n",
    "    if np.abs(xbarn) < epsilon:\n",
    "        l.append(1)\n",
    "    else:\n",
    "        l.append(0)\n",
    "# compute the raw probability\n",
    "print(sum(l)/len(l))"
   ]
  },
  {
   "cell_type": "markdown",
   "id": "df332f61-3568-4240-bd82-c7c9c50e0f58",
   "metadata": {},
   "source": [
    "### Central Limit Theorem\n",
    "\n",
    "*\"As the sample size increases indefinitely, the probability of observing the standardized version of the estimate can be approximated with a standard normal cumulative distribution function.\"*\n",
    "\n",
    "With sufficient *n*...    \n",
    "    $\\bar{X} \\sim N(\\mu, \\frac{\\sigma}{\\sqrt{n}})$"
   ]
  },
  {
   "cell_type": "code",
   "execution_count": null,
   "id": "28cf5039-8452-4cac-ac47-8b00a622397d",
   "metadata": {},
   "outputs": [],
   "source": [
    "# the distribution of sample means, will always be normal\n",
    "# so we will do this 1000 times where we take 10,000 draws from a uniform distribution\n",
    "ubars = []\n",
    "for i in range(1_000):\n",
    "    u = np.random.uniform(0, 1, 10_000)\n",
    "    xbarn = np.mean(u)\n",
    "    ubars.append(xbarn)"
   ]
  },
  {
   "cell_type": "code",
   "execution_count": null,
   "id": "cf79eca6-2e71-4d45-9973-003a071e6272",
   "metadata": {},
   "outputs": [],
   "source": [
    "# so we would expect it to follow a uniform distribution but it follows a normal\n",
    "sns.kdeplot(ubars);"
   ]
  },
  {
   "cell_type": "code",
   "execution_count": null,
   "id": "1bf7f0b4-4a86-40b6-8ea9-f28f1ae65409",
   "metadata": {},
   "outputs": [],
   "source": []
  }
 ],
 "metadata": {
  "kernelspec": {
   "display_name": "Python 3 (ipykernel)",
   "language": "python",
   "name": "python3"
  },
  "language_info": {
   "codemirror_mode": {
    "name": "ipython",
    "version": 3
   },
   "file_extension": ".py",
   "mimetype": "text/x-python",
   "name": "python",
   "nbconvert_exporter": "python",
   "pygments_lexer": "ipython3",
   "version": "3.12.0"
  }
 },
 "nbformat": 4,
 "nbformat_minor": 5
}
