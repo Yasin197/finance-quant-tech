{
 "cells": [
  {
   "cell_type": "markdown",
   "id": "fe50252f-c0ac-4297-8bc2-f2c6c5762e0d",
   "metadata": {},
   "source": [
    "# Poisson distribution"
   ]
  },
  {
   "cell_type": "markdown",
   "id": "63690b2c-13ee-4229-96d0-ab451e31c109",
   "metadata": {},
   "source": [
    "Outline:\n",
    "- Examples and use cases:\n",
    "  - Buyers and sellers market place, whereby the seller has number of postings varying monthly\n",
    "  - Insurnace: the number of claims made within a given period\n",
    "  - Queuing: Customers arriving at a help desk or customer support calls.\n",
    "- The foundations\n",
    "- The assumptions\n",
    "- When real life deviates from the model"
   ]
  },
  {
   "cell_type": "code",
   "execution_count": null,
   "id": "a2ae16ac-541c-4bbd-860d-fc288b20f1db",
   "metadata": {},
   "outputs": [],
   "source": []
  }
 ],
 "metadata": {
  "kernelspec": {
   "display_name": "Python 3 (ipykernel)",
   "language": "python",
   "name": "python3"
  },
  "language_info": {
   "codemirror_mode": {
    "name": "ipython",
    "version": 3
   },
   "file_extension": ".py",
   "mimetype": "text/x-python",
   "name": "python",
   "nbconvert_exporter": "python",
   "pygments_lexer": "ipython3",
   "version": "3.12.0"
  }
 },
 "nbformat": 4,
 "nbformat_minor": 5
}
